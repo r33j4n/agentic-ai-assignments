{
 "cells": [
  {
   "cell_type": "code",
   "id": "a6f75f7f-33de-46fe-8bc2-210c8fcc540e",
   "metadata": {
    "ExecuteTime": {
     "end_time": "2025-05-22T18:42:14.661007Z",
     "start_time": "2025-05-22T18:42:14.656333Z"
    }
   },
   "source": [
    "from typing import TypedDict,List"
   ],
   "outputs": [],
   "execution_count": 1
  },
  {
   "cell_type": "code",
   "id": "77b2c76d-5dab-4cd6-9d15-9aafedab0906",
   "metadata": {
    "ExecuteTime": {
     "end_time": "2025-05-22T18:42:15.080720Z",
     "start_time": "2025-05-22T18:42:14.720776Z"
    }
   },
   "source": [
    "from langgraph.graph import StateGraph"
   ],
   "outputs": [],
   "execution_count": 2
  },
  {
   "cell_type": "code",
   "id": "50932d1d-5cef-4d1b-9815-8264eb1e9d16",
   "metadata": {
    "ExecuteTime": {
     "end_time": "2025-05-22T18:42:15.090372Z",
     "start_time": "2025-05-22T18:42:15.087795Z"
    }
   },
   "source": [
    "import math"
   ],
   "outputs": [],
   "execution_count": 3
  },
  {
   "cell_type": "code",
   "id": "d250cb30-7735-420d-b1d0-128fcfb93150",
   "metadata": {
    "ExecuteTime": {
     "end_time": "2025-05-22T18:42:15.099834Z",
     "start_time": "2025-05-22T18:42:15.098054Z"
    }
   },
   "source": [
    "class CalculateAgent(TypedDict):\n",
    "    values:List[int]\n",
    "    operation:str\n",
    "    name:str\n",
    "    result:str"
   ],
   "outputs": [],
   "execution_count": 4
  },
  {
   "cell_type": "code",
   "id": "d91691fe-e6a4-4278-8dee-864d7bf7dfdb",
   "metadata": {
    "ExecuteTime": {
     "end_time": "2025-05-22T18:42:15.110314Z",
     "start_time": "2025-05-22T18:42:15.107647Z"
    }
   },
   "source": [
    "def process_operation(state:CalculateAgent)-> CalculateAgent:\n",
    "    x=0\n",
    "    if (state[\"operation\"]=='+'):\n",
    "       x=sum(state[\"values\"])\n",
    "    elif(state[\"operation\"]=='*'):\n",
    "        x=math.prod(state[\"values\"])\n",
    "    else:\n",
    "        x=\"Wrong Operation\"\n",
    "    state[\"result\"]=f\"Hi {state[\"name\"]} Your operation is {state[\"operation\"]} the numbers are {state[\"values\"]} the result is {x}\"\n",
    "    return state"
   ],
   "outputs": [],
   "execution_count": 5
  },
  {
   "cell_type": "code",
   "id": "d13c2fe3-35b3-4afb-9f5c-cb75e9fa8c9f",
   "metadata": {
    "ExecuteTime": {
     "end_time": "2025-05-22T18:42:15.120122Z",
     "start_time": "2025-05-22T18:42:15.117795Z"
    }
   },
   "source": [
    "graph = StateGraph(CalculateAgent)"
   ],
   "outputs": [],
   "execution_count": 6
  },
  {
   "cell_type": "code",
   "id": "bf75e22f-25f8-44cb-99a0-2ab644d0c73a",
   "metadata": {
    "ExecuteTime": {
     "end_time": "2025-05-22T18:42:15.191006Z",
     "start_time": "2025-05-22T18:42:15.187293Z"
    }
   },
   "source": [
    "graph.add_node(\"calculate_operation\",process_operation)"
   ],
   "outputs": [
    {
     "data": {
      "text/plain": [
       "<langgraph.graph.state.StateGraph at 0x10614fce0>"
      ]
     },
     "execution_count": 7,
     "metadata": {},
     "output_type": "execute_result"
    }
   ],
   "execution_count": 7
  },
  {
   "cell_type": "code",
   "id": "92744d8f-8ccf-4bf3-aeea-71ecb004b7b6",
   "metadata": {
    "ExecuteTime": {
     "end_time": "2025-05-22T18:42:15.214099Z",
     "start_time": "2025-05-22T18:42:15.211560Z"
    }
   },
   "source": [
    "graph.set_entry_point(\"calculate_operation\")"
   ],
   "outputs": [
    {
     "data": {
      "text/plain": [
       "<langgraph.graph.state.StateGraph at 0x10614fce0>"
      ]
     },
     "execution_count": 8,
     "metadata": {},
     "output_type": "execute_result"
    }
   ],
   "execution_count": 8
  },
  {
   "cell_type": "raw",
   "id": "0ee2cd5c-76d9-493e-a0cb-85da8484f2a0",
   "metadata": {},
   "source": [
    "graph.set_finish_point(\"calculate_operation\")"
   ]
  },
  {
   "metadata": {
    "ExecuteTime": {
     "end_time": "2025-05-22T18:42:15.276809Z",
     "start_time": "2025-05-22T18:42:15.273268Z"
    }
   },
   "cell_type": "code",
   "source": "app = graph.compile()",
   "id": "57afc2f0-6945-45a7-8527-01a251cd71cd",
   "outputs": [],
   "execution_count": 9
  },
  {
   "cell_type": "code",
   "id": "84883ee4-86da-41f8-bca3-8db0a51a6468",
   "metadata": {
    "ExecuteTime": {
     "end_time": "2025-05-22T18:42:15.307596Z",
     "start_time": "2025-05-22T18:42:15.300821Z"
    }
   },
   "source": "output=app.invoke({\"name\":\"Thareejan\",\"values\":[1,2,3,4,5,6],\"operation\":\"*\"})",
   "outputs": [],
   "execution_count": 10
  },
  {
   "cell_type": "code",
   "id": "2b86014e-e115-473d-b053-60d0f1d01658",
   "metadata": {
    "ExecuteTime": {
     "end_time": "2025-05-22T18:42:15.319626Z",
     "start_time": "2025-05-22T18:42:15.317762Z"
    }
   },
   "source": [
    "output[\"result\"]"
   ],
   "outputs": [
    {
     "data": {
      "text/plain": [
       "'Hi Thareejan Your operation is * the numbers are [1, 2, 3, 4, 5, 6] the result is 720'"
      ]
     },
     "execution_count": 11,
     "metadata": {},
     "output_type": "execute_result"
    }
   ],
   "execution_count": 11
  },
  {
   "metadata": {
    "ExecuteTime": {
     "end_time": "2025-05-22T18:42:15.347925Z",
     "start_time": "2025-05-22T18:42:15.345743Z"
    }
   },
   "cell_type": "code",
   "source": "output2=app.invoke({\"name\":\"Thareejan\",\"values\":[1,2,3,4,5,6],\"operation\":\"+\"})\n",
   "id": "2019e33ce00edb55",
   "outputs": [],
   "execution_count": 12
  },
  {
   "cell_type": "code",
   "id": "4f630071-e6bc-47bc-aee1-060ea3320c71",
   "metadata": {
    "ExecuteTime": {
     "end_time": "2025-05-22T18:42:15.367466Z",
     "start_time": "2025-05-22T18:42:15.364321Z"
    }
   },
   "source": "output2[\"result\"]",
   "outputs": [
    {
     "data": {
      "text/plain": [
       "'Hi Thareejan Your operation is + the numbers are [1, 2, 3, 4, 5, 6] the result is 21'"
      ]
     },
     "execution_count": 13,
     "metadata": {},
     "output_type": "execute_result"
    }
   ],
   "execution_count": 13
  },
  {
   "metadata": {
    "ExecuteTime": {
     "end_time": "2025-05-22T18:42:15.396011Z",
     "start_time": "2025-05-22T18:42:15.393153Z"
    }
   },
   "cell_type": "code",
   "source": "output3=app.invoke({\"name\":\"Thareejan\",\"values\":[1,2,3,4,5,6],\"operation\":\"-\"})\n",
   "id": "8e000308cc5f52f9",
   "outputs": [],
   "execution_count": 14
  },
  {
   "metadata": {
    "ExecuteTime": {
     "end_time": "2025-05-22T18:42:15.419089Z",
     "start_time": "2025-05-22T18:42:15.416685Z"
    }
   },
   "cell_type": "code",
   "source": "output3[\"result\"]",
   "id": "221311a229072cc8",
   "outputs": [
    {
     "data": {
      "text/plain": [
       "'Hi Thareejan Your operation is - the numbers are [1, 2, 3, 4, 5, 6] the result is Wrong Operation'"
      ]
     },
     "execution_count": 15,
     "metadata": {},
     "output_type": "execute_result"
    }
   ],
   "execution_count": 15
  }
 ],
 "metadata": {
  "kernelspec": {
   "display_name": "Python [conda env:base] *",
   "language": "python",
   "name": "conda-base-py"
  },
  "language_info": {
   "codemirror_mode": {
    "name": "ipython",
    "version": 3
   },
   "file_extension": ".py",
   "mimetype": "text/x-python",
   "name": "python",
   "nbconvert_exporter": "python",
   "pygments_lexer": "ipython3",
   "version": "3.12.7"
  }
 },
 "nbformat": 4,
 "nbformat_minor": 5
}
