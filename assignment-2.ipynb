{
 "cells": [
  {
   "cell_type": "code",
   "execution_count": 91,
   "id": "a6f75f7f-33de-46fe-8bc2-210c8fcc540e",
   "metadata": {},
   "outputs": [],
   "source": [
    "from typing import TypedDict,List"
   ]
  },
  {
   "cell_type": "code",
   "execution_count": 92,
   "id": "77b2c76d-5dab-4cd6-9d15-9aafedab0906",
   "metadata": {},
   "outputs": [],
   "source": [
    "from langgraph.graph import StateGraph"
   ]
  },
  {
   "cell_type": "code",
   "execution_count": 93,
   "id": "50932d1d-5cef-4d1b-9815-8264eb1e9d16",
   "metadata": {},
   "outputs": [],
   "source": [
    "import math"
   ]
  },
  {
   "cell_type": "code",
   "execution_count": 94,
   "id": "d250cb30-7735-420d-b1d0-128fcfb93150",
   "metadata": {},
   "outputs": [],
   "source": [
    "class CalculateAgent(TypedDict):\n",
    "    values:List[int]\n",
    "    operation:str\n",
    "    name:str\n",
    "    result:str"
   ]
  },
  {
   "cell_type": "code",
   "execution_count": 95,
   "id": "d91691fe-e6a4-4278-8dee-864d7bf7dfdb",
   "metadata": {},
   "outputs": [],
   "source": [
    "def process_operation(state:CalculateAgent)-> CalculateAgent:\n",
    "    x=0\n",
    "    if (state[\"operation\"]=='+'):\n",
    "       x=sum(state[\"values\"])\n",
    "    elif(state[\"operation\"]=='*'):\n",
    "        x=math.prod(state[\"values\"])\n",
    "    else:\n",
    "        x=\"Wrong Operation\"\n",
    "    state[\"result\"]=f\"Hi {state[\"name\"]} Your operation is {state[\"operation\"]} the numbers are {state[\"values\"]} the result is {x}\"\n",
    "    return state"
   ]
  },
  {
   "cell_type": "code",
   "execution_count": 96,
   "id": "d13c2fe3-35b3-4afb-9f5c-cb75e9fa8c9f",
   "metadata": {},
   "outputs": [],
   "source": [
    "graph = StateGraph(CalculateAgent)"
   ]
  },
  {
   "cell_type": "code",
   "execution_count": 97,
   "id": "bf75e22f-25f8-44cb-99a0-2ab644d0c73a",
   "metadata": {},
   "outputs": [
    {
     "data": {
      "text/plain": [
       "<langgraph.graph.state.StateGraph at 0x1666d6480>"
      ]
     },
     "execution_count": 97,
     "metadata": {},
     "output_type": "execute_result"
    }
   ],
   "source": [
    "graph.add_node(\"calculate_operation\",process_operation)"
   ]
  },
  {
   "cell_type": "code",
   "execution_count": 98,
   "id": "92744d8f-8ccf-4bf3-aeea-71ecb004b7b6",
   "metadata": {},
   "outputs": [
    {
     "data": {
      "text/plain": [
       "<langgraph.graph.state.StateGraph at 0x1666d6480>"
      ]
     },
     "execution_count": 98,
     "metadata": {},
     "output_type": "execute_result"
    }
   ],
   "source": [
    "graph.set_entry_point(\"calculate_operation\")"
   ]
  },
  {
   "cell_type": "raw",
   "id": "0ee2cd5c-76d9-493e-a0cb-85da8484f2a0",
   "metadata": {},
   "source": [
    "graph.set_finish_point(\"calculate_operation\")"
   ]
  },
  {
   "cell_type": "code",
   "execution_count": 99,
   "id": "57afc2f0-6945-45a7-8527-01a251cd71cd",
   "metadata": {},
   "outputs": [],
   "source": [
    "app = graph.compile()"
   ]
  },
  {
   "cell_type": "code",
   "execution_count": 100,
   "id": "84883ee4-86da-41f8-bca3-8db0a51a6468",
   "metadata": {},
   "outputs": [],
   "source": [
    "output=app.invoke({\"name\":\"Thareejan\",\"values\":[1,2,3,4,5,6],\"operation\":\"-\"})"
   ]
  },
  {
   "cell_type": "code",
   "execution_count": 101,
   "id": "2b86014e-e115-473d-b053-60d0f1d01658",
   "metadata": {},
   "outputs": [
    {
     "data": {
      "text/plain": [
       "'Hi Thareejan Your operation is - the numbers are [1, 2, 3, 4, 5, 6] the result is Wrong Operation'"
      ]
     },
     "execution_count": 101,
     "metadata": {},
     "output_type": "execute_result"
    }
   ],
   "source": [
    "output[\"result\"]"
   ]
  },
  {
   "cell_type": "code",
   "execution_count": null,
   "id": "4f630071-e6bc-47bc-aee1-060ea3320c71",
   "metadata": {},
   "outputs": [],
   "source": []
  }
 ],
 "metadata": {
  "kernelspec": {
   "display_name": "Python [conda env:base] *",
   "language": "python",
   "name": "conda-base-py"
  },
  "language_info": {
   "codemirror_mode": {
    "name": "ipython",
    "version": 3
   },
   "file_extension": ".py",
   "mimetype": "text/x-python",
   "name": "python",
   "nbconvert_exporter": "python",
   "pygments_lexer": "ipython3",
   "version": "3.12.7"
  }
 },
 "nbformat": 4,
 "nbformat_minor": 5
}
