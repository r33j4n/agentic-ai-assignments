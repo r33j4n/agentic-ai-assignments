{
 "cells": [
  {
   "cell_type": "code",
   "execution_count": 9,
   "id": "initial_id",
   "metadata": {
    "ExecuteTime": {
     "end_time": "2025-05-22T19:00:58.583943Z",
     "start_time": "2025-05-22T19:00:58.012969Z"
    },
    "collapsed": true
   },
   "outputs": [],
   "source": [
    "from typing import List,TypedDict\n",
    "from langgraph.graph import StateGraph\n",
    "import math"
   ]
  },
  {
   "cell_type": "code",
   "execution_count": 10,
   "id": "cb4020f651028623",
   "metadata": {
    "ExecuteTime": {
     "end_time": "2025-05-22T19:04:08.949641Z",
     "start_time": "2025-05-22T19:04:08.733626Z"
    }
   },
   "outputs": [],
   "source": [
    "class AgentState(TypedDict):\n",
    "    name: str\n",
    "    age:int\n",
    "    skills:List[str]"
   ]
  },
  {
   "cell_type": "code",
   "execution_count": 11,
   "id": "10c32133",
   "metadata": {},
   "outputs": [],
   "source": [
    "def describe_name(state:AgentState) -> AgentState:\n",
    "    \"\"\"Describe the name of the agent.\"\"\"\n",
    "    state['name'] = f\"Agent {state['name']}\"\n",
    "    return state"
   ]
  },
  {
   "cell_type": "code",
   "execution_count": 12,
   "id": "00688a2b",
   "metadata": {},
   "outputs": [],
   "source": [
    "def describe_age(state:AgentState) -> AgentState:\n",
    "    \"\"\"Describe the age of the agent.\"\"\"\n",
    "    state['age'] = f\"{state['age']} years old\"\n",
    "    return state"
   ]
  },
  {
   "cell_type": "code",
   "execution_count": 13,
   "id": "13f3a35d",
   "metadata": {},
   "outputs": [],
   "source": [
    "def describe_skills(state:AgentState) -> AgentState:\n",
    "    \"\"\"Describe the skills of the agent.\"\"\"\n",
    "    state['skills'] = [f\"Skill: {skill}\" for skill in state['skills']]\n",
    "    return state"
   ]
  },
  {
   "cell_type": "code",
   "execution_count": 14,
   "id": "8968153a",
   "metadata": {},
   "outputs": [],
   "source": [
    "graph = StateGraph(AgentState)"
   ]
  },
  {
   "cell_type": "code",
   "execution_count": 15,
   "id": "5392ecf9",
   "metadata": {},
   "outputs": [
    {
     "data": {
      "text/plain": [
       "<langgraph.graph.state.StateGraph at 0x107f46d80>"
      ]
     },
     "execution_count": 15,
     "metadata": {},
     "output_type": "execute_result"
    }
   ],
   "source": [
    "graph.add_node(\"name_description\", describe_name)\n",
    "graph.add_node(\"age_description\", describe_age)\n",
    "graph.add_node(\"skills_description\", describe_skills)\n",
    "graph.add_edge(\"name_description\", \"age_description\")\n",
    "graph.add_edge(\"age_description\", \"skills_description\")\n",
    "graph.set_entry_point(\"name_description\")\n",
    "graph.set_finish_point(\"skills_description\")"
   ]
  },
  {
   "cell_type": "code",
   "execution_count": 17,
   "id": "a0088f60",
   "metadata": {},
   "outputs": [
    {
     "data": {
      "image/png": "[encoded data removed]",
      "text/plain": [
       "<langgraph.graph.state.CompiledStateGraph object at 0x110474fb0>"
      ]
     },
     "execution_count": 17,
     "metadata": {},
     "output_type": "execute_result"
    }
   ],
   "source": [
    "app=graph.compile()\n",
    "app"
   ]
  },
  {
   "cell_type": "code",
   "execution_count": 19,
   "id": "d0ab010b",
   "metadata": {},
   "outputs": [],
   "source": [
    "result=app.invoke(\n",
    "    {\n",
    "        \"name\": \"John\",\n",
    "        \"age\": 30,\n",
    "        \"skills\": [\"Python\", \"Machine Learning\"]\n",
    "    }\n",
    ")"
   ]
  },
  {
   "cell_type": "code",
   "execution_count": 20,
   "id": "c6320210",
   "metadata": {},
   "outputs": [
    {
     "data": {
      "text/plain": [
       "{'name': 'Agent John',\n",
       " 'age': '30 years old',\n",
       " 'skills': ['Skill: Python', 'Skill: Machine Learning']}"
      ]
     },
     "execution_count": 20,
     "metadata": {},
     "output_type": "execute_result"
    }
   ],
   "source": [
    "result"
   ]
  },
  {
   "cell_type": "code",
   "execution_count": null,
   "id": "11211866",
   "metadata": {},
   "outputs": [],
   "source": []
  }
 ],
 "metadata": {
  "kernelspec": {
   "display_name": "base",
   "language": "python",
   "name": "python3"
  },
  "language_info": {
   "codemirror_mode": {
    "name": "ipython",
    "version": 3
   },
   "file_extension": ".py",
   "mimetype": "text/x-python",
   "name": "python",
   "nbconvert_exporter": "python",
   "pygments_lexer": "ipython3",
   "version": "3.12.7"
  }
 },
 "nbformat": 4,
 "nbformat_minor": 5
}
